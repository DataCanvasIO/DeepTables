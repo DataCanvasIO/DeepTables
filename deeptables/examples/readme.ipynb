{
 "cells": [
  {
   "cell_type": "markdown",
   "metadata": {},
   "source": [
    "# DeepTables\n",
    "\n",
    "## DeepTables: Deep-learning Toolkit for Tabular data\n",
    "DeepTables(DT) is a easy-to-use toolkit that enables deep learning to unleash great power on tabular data.\n",
    "\n",
    "\n",
    "## Overview\n",
    "\n",
    "MLP (also known as Fully-connected neural networks) have been shown inefficient in learning distribution representation. The \"add\" operations of the perceptron layer have been proven poor performance to exploring multiplicative feature interactions. In most cases, manual feature engineering is necessary and this work requires extensive domain knowledge and very cumbersome. How learning feature interactions efficiently in neural networks becomes the most important problem.\n",
    "\n",
    "Various models have been proposed to CTR prediction and continue to outperform existing state-of-the-art approaches to the late years. Well-known examples include FM, DeepFM, Wide&Deep, DCN, PNN, etc. These models can also provide good performance on tabular data under reasonable utilization.\n",
    "\n",
    "DT aims to utilize the latest research findings to provide users with an end-to-end toolkit on tabular data.\n",
    "\n",
    "DT has been designed with these key goals in mind:\n",
    "\n",
    "* Easy to use, non-experts can also use.\n",
    "* Provide good performance out of the box.\n",
    "* Flexible architecture and easy expansion by user.\n",
    "\n",
    "## Example"
   ]
  },
  {
   "cell_type": "code",
   "execution_count": 1,
   "metadata": {},
   "outputs": [],
   "source": [
    "from deeptables.models.deeptable import DeepTable, ModelConfig\n",
    "from deeptables.datasets import dsutils\n",
    "from sklearn.model_selection import train_test_split\n",
    "import numpy as np\n",
    "import pandas as pd"
   ]
  },
  {
   "cell_type": "markdown",
   "metadata": {},
   "source": [
    "#### loading data"
   ]
  },
  {
   "cell_type": "code",
   "execution_count": 2,
   "metadata": {},
   "outputs": [],
   "source": [
    "df = dsutils.load_bank()\n",
    "df.drop(['id'], axis=1, inplace=True)\n",
    "\n",
    "df_train, df_test = train_test_split(df, test_size=0.2, random_state=42)\n",
    "\n",
    "y = df_train.pop('y')\n",
    "y_test = df_test.pop('y')"
   ]
  },
  {
   "cell_type": "markdown",
   "metadata": {},
   "source": [
    "#### training"
   ]
  },
  {
   "cell_type": "code",
   "execution_count": 3,
   "metadata": {},
   "outputs": [
    {
     "name": "stdout",
     "output_type": "stream",
     "text": [
      "2 class detected, {'yes', 'no'}, so inferred as a [binary classification] task\n",
      "Preparing features cost:0.07581210136413574\n",
      "Imputation cost:0.3101482391357422\n",
      "Categorical encoding cost:0.6227331161499023\n",
      "Discretization cost:0.207719087600708\n",
      "fit_transform cost:1.306624174118042\n",
      "Injected a callback [EarlyStopping]. monitor:val_AUC, patience:1, mode:max\n",
      ">>>>>>>>>>>>>>>>>>>>>> Model Desc <<<<<<<<<<<<<<<<<<<<<<< \n",
      "---------------------------------------------------------\n",
      "inputs:\n",
      "---------------------------------------------------------\n",
      "['all_categorical_vars: (16)', 'input_continuous_all: (7)']\n",
      "---------------------------------------------------------\n",
      "embeddings:\n",
      "---------------------------------------------------------\n",
      "input_dims: [14, 5, 6, 4, 4, 4, 5, 14, 6, 5, 9, 4, 7, 4, 6, 4]\n",
      "output_dims: [4, 4, 4, 4, 4, 4, 4, 4, 4, 4, 4, 4, 4, 4, 4, 4]\n",
      "dropout: 0.3\n",
      "---------------------------------------------------------\n",
      "dense: dropout: 0\n",
      "batch_normalization: False\n",
      "---------------------------------------------------------\n",
      "concat_embed_dense: shape: (None, 71)\n",
      "---------------------------------------------------------\n",
      "nets: ['dnn_nets']\n",
      "---------------------------------------------------------\n",
      "dnn: input_shape (None, 71), output_shape (None, 64)\n",
      "---------------------------------------------------------\n",
      "stacking_op: add\n",
      "---------------------------------------------------------\n",
      "output: activation: sigmoid, output_shape: (None, 1), use_bias: True\n",
      "loss: binary_crossentropy\n",
      "optimizer: Adam\n",
      "---------------------------------------------------------\n",
      "\n",
      "Train on 69442 samples, validate on 17361 samples\n",
      "Epoch 1/10\n",
      "69442/69442 [==============================] - 27s 391us/sample - loss: 0.2404 - AUC: 0.8858 - acc: 0.8991 - val_loss: 0.2100 - val_AUC: 0.9333 - val_acc: 0.9160\n",
      "Epoch 2/10\n",
      "69442/69442 [==============================] - 14s 198us/sample - loss: 0.1930 - AUC: 0.9331 - acc: 0.9175 - val_loss: 0.1442 - val_AUC: 0.9693 - val_acc: 0.9410\n",
      "Epoch 3/10\n",
      "69442/69442 [==============================] - 12s 168us/sample - loss: 0.1666 - AUC: 0.9519 - acc: 0.9297 - val_loss: 0.1142 - val_AUC: 0.9857 - val_acc: 0.9649\n",
      "Epoch 4/10\n",
      "69442/69442 [==============================] - 12s 166us/sample - loss: 0.1419 - AUC: 0.9661 - acc: 0.9421 - val_loss: 0.0869 - val_AUC: 0.9944 - val_acc: 0.9793\n",
      "Epoch 5/10\n",
      "69442/69442 [==============================] - 12s 166us/sample - loss: 0.1265 - AUC: 0.9732 - acc: 0.9496 - val_loss: 0.0673 - val_AUC: 0.9973 - val_acc: 0.9834\n",
      "Epoch 6/10\n",
      "69376/69442 [============================>.] - ETA: 0s - loss: 0.1122 - AUC: 0.9795 - acc: 0.9553Restoring model weights from the end of the best epoch.\n",
      "69442/69442 [==============================] - 11s 164us/sample - loss: 0.1121 - AUC: 0.9795 - acc: 0.9553 - val_loss: 0.0555 - val_AUC: 0.9982 - val_acc: 0.9866\n",
      "Epoch 00006: early stopping\n",
      "Model has been saved to:dt_output/dt_20200320 112902_dnn_nets/dnn_nets.h5\n"
     ]
    }
   ],
   "source": [
    "config = ModelConfig(fixed_embedding_dim=True,embeddings_output_dim=4,metrics=['AUC','acc'],auto_discrete=True)\n",
    "\n",
    "dt = DeepTable(config=config)\n",
    "model, history = dt.fit(df_train, y, epochs=10)"
   ]
  },
  {
   "cell_type": "markdown",
   "metadata": {},
   "source": [
    "#### evaluation"
   ]
  },
  {
   "cell_type": "code",
   "execution_count": 4,
   "metadata": {},
   "outputs": [
    {
     "name": "stdout",
     "output_type": "stream",
     "text": [
      "transform_X cost:2.3395299911499023\n",
      "transform_y cost:0.0034241676330566406\n"
     ]
    },
    {
     "data": {
      "text/plain": [
       "{'loss': 0.06808515293427966, 'AUC': 0.9969886, 'acc': 0.9831344}"
      ]
     },
     "execution_count": 4,
     "metadata": {},
     "output_type": "execute_result"
    }
   ],
   "source": [
    "dt.evaluate(df_test,y_test, batch_size=512, verbose=0)"
   ]
  },
  {
   "cell_type": "code",
   "execution_count": 5,
   "metadata": {},
   "outputs": [
    {
     "data": {
      "text/plain": [
       "<matplotlib.legend.Legend at 0x1a45742650>"
      ]
     },
     "execution_count": 5,
     "metadata": {},
     "output_type": "execute_result"
    },
    {
     "data": {
      "image/png": "[encoded data removed]",
      "text/plain": [
       "<Figure size 432x288 with 1 Axes>"
      ]
     },
     "metadata": {
      "needs_background": "light"
     },
     "output_type": "display_data"
    }
   ],
   "source": [
    "import matplotlib.pyplot as plt\n",
    "\n",
    "plt.plot(history.history['acc'])\n",
    "plt.plot(history.history['val_acc'])\n",
    "plt.legend(['train', 'val'], loc='upper left') "
   ]
  },
  {
   "cell_type": "code",
   "execution_count": 6,
   "metadata": {},
   "outputs": [
    {
     "data": {
      "text/plain": [
       "<matplotlib.legend.Legend at 0x1a45f68d10>"
      ]
     },
     "execution_count": 6,
     "metadata": {},
     "output_type": "execute_result"
    },
    {
     "data": {
      "image/png": "[encoded data removed]",
      "text/plain": [
       "<Figure size 432x288 with 1 Axes>"
      ]
     },
     "metadata": {
      "needs_background": "light"
     },
     "output_type": "display_data"
    }
   ],
   "source": [
    "plt.plot(history.history['loss'],label='loss')\n",
    "plt.plot(history.history['val_loss'])\n",
    "plt.legend(['train', 'val'], loc='upper left') "
   ]
  },
  {
   "cell_type": "markdown",
   "metadata": {},
   "source": [
    "#### scoring"
   ]
  },
  {
   "cell_type": "code",
   "execution_count": 7,
   "metadata": {},
   "outputs": [
    {
     "name": "stdout",
     "output_type": "stream",
     "text": [
      "transform_X cost:2.2259840965270996\n",
      "predict_proba cost:3.6123929023742676\n"
     ]
    }
   ],
   "source": [
    "preds = dt.predict(df_test)"
   ]
  },
  {
   "cell_type": "code",
   "execution_count": null,
   "metadata": {},
   "outputs": [],
   "source": []
  }
 ],
 "metadata": {
  "kernelspec": {
   "display_name": "Python 3",
   "language": "python",
   "name": "python3"
  },
  "language_info": {
   "codemirror_mode": {
    "name": "ipython",
    "version": 3
   },
   "file_extension": ".py",
   "mimetype": "text/x-python",
   "name": "python",
   "nbconvert_exporter": "python",
   "pygments_lexer": "ipython3",
   "version": "3.7.5"
  }
 },
 "nbformat": 4,
 "nbformat_minor": 4
}
